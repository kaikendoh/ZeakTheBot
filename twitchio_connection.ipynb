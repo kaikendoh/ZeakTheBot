{
 "cells": [
  {
   "cell_type": "code",
   "execution_count": null,
   "id": "49fc694c",
   "metadata": {},
   "outputs": [],
   "source": [
    "from twitchio.ext import commands\n",
    "from config import TWITCH_OAUTH_TOKEN"
   ]
  },
  {
   "cell_type": "code",
   "execution_count": null,
   "id": "211bb2c6",
   "metadata": {},
   "outputs": [],
   "source": [
    "twitch_channels = ['kaikendoh', 'bongokaibot']"
   ]
  },
  {
   "cell_type": "code",
   "execution_count": null,
   "id": "adeae240",
   "metadata": {},
   "outputs": [],
   "source": [
    "other = 'variable string'"
   ]
  },
  {
   "cell_type": "code",
   "execution_count": null,
   "id": "4816e898",
   "metadata": {},
   "outputs": [],
   "source": [
    "class Bot(commands.Bot):\n",
    "\n",
    "    def __init__(self):\n",
    "        # Initialise our Bot with our access token, prefix and a list of channels to join on boot...\n",
    "        # prefix can be a callable, which returns a list of strings or a string...\n",
    "        # initial_channels can also be a callable which returns a list of strings...\n",
    "        super().__init__(token=TWITCH_OAUTH_TOKEN, prefix='?', initial_channels=twitch_channels)\n",
    "\n",
    "    async def event_ready(self):\n",
    "        # Notify us when everything is ready!\n",
    "        # We are logged in and ready to chat and use commands...\n",
    "        print(f'Logged in as | {self.nick}')\n",
    "        print(f'User id is | {self.user_id}')\n",
    "\n",
    "    async def event_message(self, message):\n",
    "        # Messages with echo set to True are messages sent by the bot...\n",
    "        # For now we just want to ignore them...\n",
    "        if message.echo:\n",
    "            return\n",
    "\n",
    "        # Print the contents of our message to console...\n",
    "        print(message.content)\n",
    "\n",
    "        # Since we have commands and are overriding the default `event_message`\n",
    "        # We must let the bot know we want to handle and invoke our commands...\n",
    "        await self.handle_commands(message)\n",
    "\n",
    "    @commands.command()\n",
    "    async def hello(self, ctx: commands.Context):\n",
    "        # Here we have a command hello, we can invoke our command with our prefix and command name\n",
    "        # e.g ?hello\n",
    "        # We can also give our commands aliases (different names) to invoke with.\n",
    "\n",
    "        # Send a hello back!\n",
    "        # Sending a reply back to the channel is easy... Below is an example.\n",
    "        await ctx.send(f'Hello yeah {ctx.author.name} and {other}!')\n",
    "    \n",
    "    @commands.command()\n",
    "    async def test(self, ctx: commands.Context, *, message):\n",
    "        await ctx.send(f'Echoing {message}')"
   ]
  },
  {
   "cell_type": "code",
   "execution_count": null,
   "id": "e4569435",
   "metadata": {},
   "outputs": [],
   "source": [
    "bot = Bot()\n",
    "bot.run()\n",
    "# bot.run() is blocking and will stop execution of any below code here until stopped or closed."
   ]
  }
 ],
 "metadata": {
  "kernelspec": {
   "display_name": "dbdBot",
   "language": "python",
   "name": "dbdbot"
  },
  "language_info": {
   "codemirror_mode": {
    "name": "ipython",
    "version": 3
   },
   "file_extension": ".py",
   "mimetype": "text/x-python",
   "name": "python",
   "nbconvert_exporter": "python",
   "pygments_lexer": "ipython3",
   "version": "3.10.4"
  }
 },
 "nbformat": 4,
 "nbformat_minor": 5
}
