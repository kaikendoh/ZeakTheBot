{
 "cells": [
  {
   "cell_type": "code",
   "execution_count": 72,
   "id": "83297227",
   "metadata": {},
   "outputs": [],
   "source": [
    "import wikitextparser as wtp\n",
    "from bs4 import BeautifulSoup\n",
    "import json\n",
    "import requests\n",
    "import re"
   ]
  },
  {
   "cell_type": "code",
   "execution_count": 69,
   "id": "aa232915",
   "metadata": {},
   "outputs": [],
   "source": [
    "def title_except(s, exceptions):\n",
    "    word_list = re.split(' ', s)\n",
    "    final = [word_list[0].capitalize()]\n",
    "    for word in word_list[1:]:\n",
    "        final.append(word if word in exceptions else word.capitalize())\n",
    "    return \" \".join(final)"
   ]
  },
  {
   "cell_type": "code",
   "execution_count": 70,
   "id": "a5586f4b",
   "metadata": {},
   "outputs": [],
   "source": [
    "articles = ['a', 'an', 'of', 'the', 'is']"
   ]
  },
  {
   "cell_type": "code",
   "execution_count": 82,
   "id": "572fa588",
   "metadata": {
    "scrolled": true
   },
   "outputs": [
    {
     "name": "stdout",
     "output_type": "stream",
     "text": [
      "DBD perk name: premonition\n",
      "You have the undeniable capability to sense danger.Receive an auditory warning upon looking in the Killer's direction within a 45 ° cone within 36 metres.Premonition has a cool-down of 60/45/30 seconds each time it activates.\"I have a bad feeling about this!\"\n",
      "259\n"
     ]
    }
   ],
   "source": [
    "perk = input(\"DBD perk name: \")\n",
    "# perk = 'power struggle'\n",
    "perkurl = title_except(perk, articles).replace(\" \", \"_\")\n",
    "url = \"https://deadbydaylight.fandom.com/wiki/{a}\".format(a=perkurl)\n",
    " \n",
    "response = requests.get(url)\n",
    "webpage = response.content\n",
    " \n",
    " \n",
    "soup = BeautifulSoup(webpage, \"html.parser\")\n",
    " \n",
    "fullperk = soup.find('div', class_='formattedPerkDesc').get_text().replace('\\n', '')\n",
    " \n",
    " \n",
    "print(fullperk)\n",
    "print(len(fullperk))"
   ]
  },
  {
   "cell_type": "code",
   "execution_count": 68,
   "id": "c019288a",
   "metadata": {},
   "outputs": [
    {
     "data": {
      "text/plain": [
       "'https://deadbydaylight.fandom.com/wiki/Pop_Goes_The_Weasel'"
      ]
     },
     "execution_count": 68,
     "metadata": {},
     "output_type": "execute_result"
    }
   ],
   "source": [
    "url"
   ]
  },
  {
   "cell_type": "code",
   "execution_count": 62,
   "id": "d102fe3c",
   "metadata": {},
   "outputs": [
    {
     "data": {
      "text/plain": [
       "<div class=\"formattedPerkDesc\">Unlocks potential in your Aura-reading ability:\n",
       "<ul><li>Each time a <a class=\"mw-redirect\" href=\"/wiki/Generator\" title=\"Generator\">Generator</a><span style=\"padding: 0 0 0 0\"><a href=\"/wiki/Generator\" title=\"Generator\"><img alt=\"IconHelpLoading generators.png\" class=\"lazyload\" data-image-key=\"IconHelpLoading_generators.png\" data-image-name=\"IconHelpLoading generators.png\" data-src=\"https://static.wikia.nocookie.net/deadbydaylight_gamepedia_en/images/c/c4/IconHelpLoading_generators.png/revision/latest/scale-to-width-down/32?cb=20170625095337\" decoding=\"async\" height=\"32\" src=\"data:image/gif;base64,R0lGODlhAQABAIABAAAAAP///yH5BAEAAAEALAAAAAABAAEAQAICTAEAOw%3D%3D\" width=\"32\"/></a></span>is completed, the <a href=\"/wiki/Auras\" title=\"Auras\">Auras</a><span style=\"padding: 0 0 0 0\"><a href=\"/wiki/Auras\" title=\"Auras\"><img alt=\"IconHelp auras.png\" class=\"lazyload\" data-image-key=\"IconHelp_auras.png\" data-image-name=\"IconHelp auras.png\" data-src=\"https://static.wikia.nocookie.net/deadbydaylight_gamepedia_en/images/0/03/IconHelp_auras.png/revision/latest/scale-to-width-down/32?cb=20170907143115\" decoding=\"async\" height=\"32\" src=\"data:image/gif;base64,R0lGODlhAQABAIABAAAAAP///yH5BAEAAAEALAAAAAABAAEAQAICTAEAOw%3D%3D\" width=\"32\"/></a></span> of all Survivors within <b><span class=\"luaClr clr clr2\" style=\"color: #e8c252;\">16 metres</span></b> of that Generator are revealed to you for <b><span class=\"luaClr clr clr6\" style=\"color: #ff8800;\">5 seconds</span></b>.</li>\n",
       "<li>Once the last Generator is completed, the Auras of all Survivors are revealed to you for <b><span class=\"luaClr clr clr2\" style=\"color: #e8c252;\">5</span></b>/<b><span class=\"luaClr clr clr3\" style=\"color: #199b1e;\">7</span></b>/<b><span class=\"luaClr clr clr4\" style=\"color: #ac3ee3;\">10</span></b> <b>seconds</b>.</li></ul>\n",
       "</div>"
      ]
     },
     "execution_count": 62,
     "metadata": {},
     "output_type": "execute_result"
    }
   ],
   "source": [
    "formattedPerk = soup.find('div', class_='formattedPerkDesc')\n",
    "formattedPerk"
   ]
  },
  {
   "cell_type": "code",
   "execution_count": 66,
   "id": "df777228",
   "metadata": {
    "scrolled": false
   },
   "outputs": [
    {
     "data": {
      "text/plain": [
       "'Unlocks potential in your Aura-reading ability: Each time a Generator is completed, the Auras of all Survivors within 16 metres of that Generator are revealed to you for 5 seconds . Once the last Generator is completed, the Auras of all Survivors are revealed to you for 5 / 7 / 10 seconds .'"
      ]
     },
     "execution_count": 66,
     "metadata": {},
     "output_type": "execute_result"
    }
   ],
   "source": [
    "formattedPerk.get_text(separator=' ', strip=True).replace('\\n', '')"
   ]
  },
  {
   "cell_type": "code",
   "execution_count": null,
   "id": "f1f23943",
   "metadata": {},
   "outputs": [],
   "source": []
  }
 ],
 "metadata": {
  "kernelspec": {
   "display_name": "dbdBot",
   "language": "python",
   "name": "dbdbot"
  },
  "language_info": {
   "codemirror_mode": {
    "name": "ipython",
    "version": 3
   },
   "file_extension": ".py",
   "mimetype": "text/x-python",
   "name": "python",
   "nbconvert_exporter": "python",
   "pygments_lexer": "ipython3",
   "version": "3.10.4"
  }
 },
 "nbformat": 4,
 "nbformat_minor": 5
}
